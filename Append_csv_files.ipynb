{
 "cells": [
  {
   "cell_type": "code",
   "execution_count": 1,
   "metadata": {},
   "outputs": [
    {
     "name": "stderr",
     "output_type": "stream",
     "text": [
      "C:\\Users\\eabekin\\AppData\\Local\\Temp\\ipykernel_768\\768062747.py:1: DeprecationWarning: \n",
      "Pyarrow will become a required dependency of pandas in the next major release of pandas (pandas 3.0),\n",
      "(to allow more performant data types, such as the Arrow string type, and better interoperability with other libraries)\n",
      "but was not found to be installed on your system.\n",
      "If this would cause problems for you,\n",
      "please provide us feedback at https://github.com/pandas-dev/pandas/issues/54466\n",
      "        \n",
      "  import pandas\n"
     ]
    },
    {
     "name": "stdout",
     "output_type": "stream",
     "text": [
      "C:\\Users\\eabekin\\Ericsson\\UNITEL 2023 Modernisation - Dashboard\\Unitel Dashboard\\2G_Sitelevel_data.csv\n"
     ]
    }
   ],
   "source": [
    "import pandas\n",
    "from pathlib import Path\n",
    "\n",
    "\n",
    "# For the tuning files 3G\n",
    "# final_file_name = Path(\"C:\\\\Users\\\\eabekin\\\\Ericsson\\\\UNITEL 2023 Modernisation - Dashboard\\\\Unitel Dashboard\\\\3G_Sitelevel_data.csv\")\n",
    "# main_file_data = pandas.read_csv(\"C:\\\\Users\\\\eabekin\\\\Ericsson\\\\UNITEL 2023 Modernisation - Dashboard\\\\Unitel Dashboard\\\\3G_Sitelevel_data.csv\")\n",
    "# data_to_append = pandas.read_csv(\"C:\\\\Users\\\\eabekin\\\\OneDrive - Ericsson\\\\Learning\\\\Unitel_tuning_2023\\\\daily\\\\3g.csv\")\n",
    "\n",
    "# For the tuning files 2G\n",
    "# final_file_name = Path(\"C:\\\\Users\\\\eabekin\\\\Ericsson\\\\UNITEL 2023 Modernisation - Dashboard\\\\Unitel Dashboard\\\\2G_Sitelevel_data.csv\")\n",
    "# main_file_data = pandas.read_csv(\"C:\\\\Users\\\\eabekin\\\\Ericsson\\\\UNITEL 2023 Modernisation - Dashboard\\\\Unitel Dashboard\\\\2G_Sitelevel_data.csv\")\n",
    "# data_to_append = pandas.read_csv(\"C:\\\\Users\\\\eabekin\\\\OneDrive - Ericsson\\\\Learning\\\\Unitel_tuning_2023\\\\daily\\\\2g.csv\")\n",
    "\n",
    "# For the tuning files 4G\n",
    "# final_file_name = Path(\"C:\\\\Users\\\\eabekin\\\\Ericsson\\\\UNITEL 2023 Modernisation - Dashboard\\\\Unitel Dashboard\\\\LTE_Sitelevel_data.csv\")\n",
    "# main_file_data = pandas.read_csv(\"C:\\\\Users\\\\eabekin\\\\Ericsson\\\\UNITEL 2023 Modernisation - Dashboard\\\\Unitel Dashboard\\\\LTE_Sitelevel_data.csv\")\n",
    "# data_to_append = pandas.read_csv(\"C:\\\\Users\\\\eabekin\\\\OneDrive - Ericsson\\\\Learning\\\\Unitel_tuning_2023\\\\daily\\\\4g.csv\")\n",
    "\n",
    "\n",
    "# For the tuning eCell\n",
    "# final_file_name = Path(\"C:\\\\Users\\\\eabekin\\\\Ericsson\\\\UNITEL 2023 Modernisation - Dashboard\\\\Unitel Dashboard\\\\LTE_Celllevel_data.csv\")\n",
    "# main_file_data = pandas.read_csv(\"C:\\\\Users\\\\eabekin\\\\Ericsson\\\\UNITEL 2023 Modernisation - Dashboard\\\\Unitel Dashboard\\\\LTE_Celllevel_data.csv\")\n",
    "# data_to_append = pandas.read_csv(\"C:\\\\Users\\\\eabekin\\\\OneDrive - Ericsson\\\\Learning\\\\Unitel_tuning_2023\\\\daily\\\\4g_cell.csv\")\n",
    "\n",
    "# For the Optimization daily \n",
    "# final_file_name = Path(\"C:\\\\Users\\\\eabekin\\\\OneDrive - Ericsson\\\\Learning\\\\Unitel_audit_2023\\\\lte\\\\Dashboards\\\\LTE_kpis_daily.csv\")\n",
    "# main_file_data = pandas.read_csv(\"C:\\\\Users\\\\eabekin\\\\OneDrive - Ericsson\\\\Learning\\\\Unitel_audit_2023\\\\lte\\\\Dashboards\\\\LTE_kpis_daily.csv\")\n",
    "# data_to_append = pandas.read_csv(\"C:\\\\Users\\\\eabekin\\\\OneDrive - Ericsson\\\\Learning\\\\Unitel_audit_2023\\\\lte\\\\Dashboards\\\\data.csv\")\n",
    "\n",
    "# For the Optimization hourly\n",
    "# final_file_name = Path(\"C:\\\\Users\\\\eabekin\\\\OneDrive - Ericsson\\\\Learning\\\\Unitel_audit_2023\\\\lte\\\\Dashboards\\\\LTE_kpis_hourly_1.csv\")\n",
    "# main_file_data = pandas.read_csv(\"C:\\\\Users\\\\eabekin\\\\OneDrive - Ericsson\\\\Learning\\\\Unitel_audit_2023\\\\lte\\\\Dashboards\\\\LTE_kpis_hourly_1.csv\")\n",
    "# data_to_append = pandas.read_csv(\"C:\\\\Users\\\\eabekin\\\\OneDrive - Ericsson\\\\Learning\\\\Unitel_audit_2023\\\\lte\\\\Dashboards\\\\hour.csv\")\n",
    "\n",
    "# For CLUSTER\n",
    "# final_file_name = Path(\"C:\\\\Users\\\\eabekin\\\\OneDrive - Ericsson\\\\Learning\\\\Unitel_tuning_2023\\\\Dashboard_Tuning\\\\4g_counters.csv\")\n",
    "# main_file_data = pandas.read_csv(\"C:\\\\Users\\\\eabekin\\\\OneDrive - Ericsson\\\\Learning\\\\Unitel_tuning_2023\\\\Dashboard_Tuning\\\\4g_counters.csv\")\n",
    "# data_to_append = pandas.read_csv(\"C:\\\\Users\\\\eabekin\\\\OneDrive - Ericsson\\\\Learning\\\\Unitel_tuning_2023\\\\Dashboard_Tuning\\\\4g.csv\")\n",
    "\n",
    "# For 5G_FWA_Traffic\n",
    "# final_file_name = Path(\"C:\\\\Users\\\\eabekin\\\\OneDrive - Ericsson\\\\Learning\\\\Unitel_audit_2023\\\\lte\\\\Dashboards\\\\NR_Traffic_NW_level.csv\")\n",
    "# main_file_data = pandas.read_csv(\"C:\\\\Users\\\\eabekin\\\\OneDrive - Ericsson\\\\Learning\\\\Unitel_audit_2023\\\\lte\\\\Dashboards\\\\NR_Traffic_NW_level.csv\")\n",
    "# data_to_append = pandas.read_csv(\"C:\\\\Users\\\\eabekin\\\\OneDrive - Ericsson\\\\Learning\\\\Unitel_audit_2023\\\\lte\\\\Dashboards\\\\nr.csv\")\n",
    "\n",
    "# For CYRILLE 2G_Cell\n",
    "# final_file_name = Path(\"C:\\\\Users\\\\eabekin\\\\OneDrive - Ericsson\\\\Learning\\\\Unitel_tuning_2023\\\\daily\\\\2g_cell_cyrille.csv\")\n",
    "# main_file_data = pandas.read_csv(\"C:\\\\Users\\\\eabekin\\\\OneDrive - Ericsson\\\\Learning\\\\Unitel_tuning_2023\\\\daily\\\\2g_cell_cyrille.csv\")\n",
    "# data_to_append = pandas.read_csv(\"C:\\\\Users\\\\eabekin\\\\OneDrive - Ericsson\\\\Learning\\\\Unitel_tuning_2023\\\\daily\\\\2g_cell.csv\")\n",
    "\n",
    "\n",
    "final_data = pandas.concat([main_file_data, data_to_append])\n",
    "\n",
    "final_data.to_csv(final_file_name, index= False)\n",
    "print(final_file_name)"
   ]
  },
  {
   "cell_type": "code",
   "execution_count": 48,
   "metadata": {},
   "outputs": [
    {
     "data": {
      "text/plain": [
       "['Pierre',\n",
       " 'Fatima',\n",
       " 'Carlos',\n",
       " 'Kinkela',\n",
       " 'Abel1',\n",
       " 'Cainda',\n",
       " 21,\n",
       " 23,\n",
       " 22,\n",
       " 'Bona',\n",
       " 23,\n",
       " 'Fafa',\n",
       " 24]"
      ]
     },
     "execution_count": 48,
     "metadata": {},
     "output_type": "execute_result"
    }
   ],
   "source": []
  },
  {
   "cell_type": "code",
   "execution_count": 9,
   "metadata": {},
   "outputs": [
    {
     "data": {
      "text/plain": [
       "\"def closure():\\n    msg = 'Hello'\\n\\n    def display():\\n        print('x' * 10)\\n        print(msg)\\n        print('x' * 10)\\n    return display\\n\\nclosure()\\n\\n    \""
      ]
     },
     "execution_count": 9,
     "metadata": {},
     "output_type": "execute_result"
    }
   ],
   "source": []
  }
 ],
 "metadata": {
  "kernelspec": {
   "display_name": "Python 3",
   "language": "python",
   "name": "python3"
  },
  "language_info": {
   "codemirror_mode": {
    "name": "ipython",
    "version": 3
   },
   "file_extension": ".py",
   "mimetype": "text/x-python",
   "name": "python",
   "nbconvert_exporter": "python",
   "pygments_lexer": "ipython3",
   "version": "3.12.2"
  }
 },
 "nbformat": 4,
 "nbformat_minor": 2
}
