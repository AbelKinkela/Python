{
 "cells": [
  {
   "cell_type": "code",
   "execution_count": 14,
   "metadata": {},
   "outputs": [
    {
     "name": "stdout",
     "output_type": "stream",
     "text": [
      "C:\\Users\\eabekin\\OneDrive - Ericsson\\Learning\\Unitel_audit_2023\\lte\\Dashboards\\NR_Traffic_NW_level.csv\n"
     ]
    }
   ],
   "source": [
    "import pandas\n",
    "from pathlib import Path\n",
    "\n",
    "\n",
    "# For the tuning files 3G\n",
    "# final_file_name = Path(\"C:\\\\Users\\\\eabekin\\\\Ericsson\\\\UNITEL 2023 Modernisation - Dashboard\\\\Unitel Dashboard\\\\3G_Sitelevel_data.csv\")\n",
    "# main_file_data = pandas.read_csv(\"C:\\\\Users\\\\eabekin\\\\Ericsson\\\\UNITEL 2023 Modernisation - Dashboard\\\\Unitel Dashboard\\\\3G_Sitelevel_data.csv\")\n",
    "# data_to_append = pandas.read_csv(\"C:\\\\Users\\\\eabekin\\\\OneDrive - Ericsson\\\\Learning\\\\Unitel_tuning_2023\\\\daily\\\\3g.csv\")\n",
    "\n",
    "# For the tuning files 2G\n",
    "# final_file_name = Path(\"C:\\\\Users\\\\eabekin\\\\Ericsson\\\\UNITEL 2023 Modernisation - Dashboard\\\\Unitel Dashboard\\\\2G_Sitelevel_data.csv\")\n",
    "# main_file_data = pandas.read_csv(\"C:\\\\Users\\\\eabekin\\\\Ericsson\\\\UNITEL 2023 Modernisation - Dashboard\\\\Unitel Dashboard\\\\2G_Sitelevel_data.csv\")\n",
    "# data_to_append = pandas.read_csv(\"C:\\\\Users\\\\eabekin\\\\OneDrive - Ericsson\\\\Learning\\\\Unitel_tuning_2023\\\\daily\\\\2g.csv\")\n",
    "\n",
    "# For the tuning files 4G\n",
    "# final_file_name = Path(\"C:\\\\Users\\\\eabekin\\\\Ericsson\\\\UNITEL 2023 Modernisation - Dashboard\\\\Unitel Dashboard\\\\LTE_Sitelevel_data.csv\")\n",
    "# main_file_data = pandas.read_csv(\"C:\\\\Users\\\\eabekin\\\\Ericsson\\\\UNITEL 2023 Modernisation - Dashboard\\\\Unitel Dashboard\\\\LTE_Sitelevel_data.csv\")\n",
    "# data_to_append = pandas.read_csv(\"C:\\\\Users\\\\eabekin\\\\OneDrive - Ericsson\\\\Learning\\\\Unitel_tuning_2023\\\\daily\\\\4g.csv\")\n",
    "\n",
    "\n",
    "# For the tuning eCell\n",
    "# final_file_name = Path(\"C:\\\\Users\\\\eabekin\\\\Ericsson\\\\UNITEL 2023 Modernisation - Dashboard\\\\Unitel Dashboard\\\\LTE_Celllevel_data.csv\")\n",
    "# main_file_data = pandas.read_csv(\"C:\\\\Users\\\\eabekin\\\\Ericsson\\\\UNITEL 2023 Modernisation - Dashboard\\\\Unitel Dashboard\\\\LTE_Celllevel_data.csv\")\n",
    "# data_to_append = pandas.read_csv(\"C:\\\\Users\\\\eabekin\\\\OneDrive - Ericsson\\\\Learning\\\\Unitel_tuning_2023\\\\daily\\\\4g_cell.csv\")\n",
    "\n",
    "# For the Optimization daily \n",
    "# final_file_name = Path(\"C:\\\\Users\\\\eabekin\\\\OneDrive - Ericsson\\\\Learning\\\\Unitel_audit_2023\\\\lte\\\\Dashboards\\\\LTE_kpis_daily.csv\")\n",
    "# main_file_data = pandas.read_csv(\"C:\\\\Users\\\\eabekin\\\\OneDrive - Ericsson\\\\Learning\\\\Unitel_audit_2023\\\\lte\\\\Dashboards\\\\LTE_kpis_daily.csv\")\n",
    "# data_to_append = pandas.read_csv(\"C:\\\\Users\\\\eabekin\\\\OneDrive - Ericsson\\\\Learning\\\\Unitel_audit_2023\\\\lte\\\\Dashboards\\\\data.csv\")\n",
    "\n",
    "# For the Optimization hourly\n",
    "# final_file_name = Path(\"C:\\\\Users\\\\eabekin\\\\OneDrive - Ericsson\\\\Learning\\\\Unitel_audit_2023\\\\lte\\\\Dashboards\\\\LTE_kpis_hourly_1.csv\")\n",
    "# main_file_data = pandas.read_csv(\"C:\\\\Users\\\\eabekin\\\\OneDrive - Ericsson\\\\Learning\\\\Unitel_audit_2023\\\\lte\\\\Dashboards\\\\LTE_kpis_hourly_1.csv\")\n",
    "# data_to_append = pandas.read_csv(\"C:\\\\Users\\\\eabekin\\\\OneDrive - Ericsson\\\\Learning\\\\Unitel_audit_2023\\\\lte\\\\Dashboards\\\\hour.csv\")\n",
    "\n",
    "# For CLUSTER\n",
    "# final_file_name = Path(\"C:\\\\Users\\\\eabekin\\\\OneDrive - Ericsson\\\\Learning\\\\Unitel_tuning_2023\\\\Dashboard_Tuning\\\\4g_counters.csv\")\n",
    "# main_file_data = pandas.read_csv(\"C:\\\\Users\\\\eabekin\\\\OneDrive - Ericsson\\\\Learning\\\\Unitel_tuning_2023\\\\Dashboard_Tuning\\\\4g_counters.csv\")\n",
    "# data_to_append = pandas.read_csv(\"C:\\\\Users\\\\eabekin\\\\OneDrive - Ericsson\\\\Learning\\\\Unitel_tuning_2023\\\\Dashboard_Tuning\\\\4g.csv\")\n",
    "\n",
    "# For 5G_FWA_Traffic\n",
    "# final_file_name = Path(\"C:\\\\Users\\\\eabekin\\\\OneDrive - Ericsson\\\\Learning\\\\Unitel_audit_2023\\\\lte\\\\Dashboards\\\\NR_Traffic_NW_level.csv\")\n",
    "# main_file_data = pandas.read_csv(\"C:\\\\Users\\\\eabekin\\\\OneDrive - Ericsson\\\\Learning\\\\Unitel_audit_2023\\\\lte\\\\Dashboards\\\\NR_Traffic_NW_level.csv\")\n",
    "# data_to_append = pandas.read_csv(\"C:\\\\Users\\\\eabekin\\\\OneDrive - Ericsson\\\\Learning\\\\Unitel_audit_2023\\\\lte\\\\Dashboards\\\\nr.csv\")\n",
    "\n",
    "# For CYRILLE 2G_Cell\n",
    "# final_file_name = Path(\"C:\\\\Users\\\\eabekin\\\\OneDrive - Ericsson\\\\Learning\\\\Unitel_tuning_2023\\\\daily\\\\2g_cell_cyrille.csv\")\n",
    "# main_file_data = pandas.read_csv(\"C:\\\\Users\\\\eabekin\\\\OneDrive - Ericsson\\\\Learning\\\\Unitel_tuning_2023\\\\daily\\\\2g_cell_cyrille.csv\")\n",
    "# data_to_append = pandas.read_csv(\"C:\\\\Users\\\\eabekin\\\\OneDrive - Ericsson\\\\Learning\\\\Unitel_tuning_2023\\\\daily\\\\2g_cell.csv\")\n",
    "\n",
    "\n",
    "final_data = pandas.concat([main_file_data, data_to_append])\n",
    "\n",
    "final_data.to_csv(final_file_name, index= False)\n",
    "print(final_file_name)"
   ]
  },
  {
   "cell_type": "code",
   "execution_count": 11,
   "metadata": {},
   "outputs": [
    {
     "name": "stdout",
     "output_type": "stream",
     "text": [
      "Print the range without iter()\n",
      "Eating more Pizzas, counting  2\n",
      "Eating more Pizzas, counting  3\n",
      "Eating more Pizzas, counting  4\n",
      "Eating more Pizzas, counting  5\n"
     ]
    }
   ],
   "source": [
    "   \n",
    "class Counter:\n",
    "    def __init__(self, start, end):\n",
    "        self.num = start\n",
    "        self.end = end\n",
    " \n",
    "    def __iter__(self):\n",
    "        return self\n",
    " \n",
    "    def __next__(self): \n",
    "        if self.num > self.end:\n",
    "            raise StopIteration\n",
    "        else:\n",
    "            self.num += 1\n",
    "            return self.num - 1\n",
    "        \n",
    "# Driver code\n",
    "if __name__ == '__main__' :\n",
    "    a, b = 2, 5\n",
    "    c1 = Counter(a, b)\n",
    "    c2 = Counter(a, b)\n",
    "     \n",
    "    # Way 1-to print the range without iter()\n",
    "    print (\"Print the range without iter()\")\n",
    "    for i in c1:\n",
    "        print (\"Eating more Pizzas, counting \", i, end =\"\\n\")\n",
    "     \n",
    "    print (\"\\nPrint the range using iter()\\n\")\n",
    "     \n",
    "    # Way 2- using iter()\n",
    "    obj = iter(c2)\n",
    "    try:\n",
    "        while True: # Print till error raised\n",
    "            print (\"Eating more Pizzas, counting \", next(obj))\n",
    "    except: \n",
    "        # when StopIteration raised, Print custom message\n",
    "        print (\"\\nDead on overfood, GAME OVER\") "
   ]
  },
  {
   "cell_type": "code",
   "execution_count": 9,
   "metadata": {},
   "outputs": [
    {
     "data": {
      "text/plain": [
       "\"def closure():\\n    msg = 'Hello'\\n\\n    def display():\\n        print('x' * 10)\\n        print(msg)\\n        print('x' * 10)\\n    return display\\n\\nclosure()\\n\\n    \""
      ]
     },
     "execution_count": 9,
     "metadata": {},
     "output_type": "execute_result"
    }
   ],
   "source": []
  }
 ],
 "metadata": {
  "kernelspec": {
   "display_name": "Python 3",
   "language": "python",
   "name": "python3"
  },
  "language_info": {
   "codemirror_mode": {
    "name": "ipython",
    "version": 3
   },
   "file_extension": ".py",
   "mimetype": "text/x-python",
   "name": "python",
   "nbconvert_exporter": "python",
   "pygments_lexer": "ipython3",
   "version": "3.12.2"
  }
 },
 "nbformat": 4,
 "nbformat_minor": 2
}
