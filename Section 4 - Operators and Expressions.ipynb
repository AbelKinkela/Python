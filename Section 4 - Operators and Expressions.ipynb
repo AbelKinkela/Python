{
 "cells": [
  {
   "cell_type": "code",
   "execution_count": null,
   "metadata": {},
   "outputs": [],
   "source": [
    "# Section 4 - Operators and Expressions\n",
    "\n",
    "1. Arithmetic Operators\n",
    "2. Expressions\n",
    "3. Operator Precedence"
   ]
  }
 ],
 "metadata": {
  "kernelspec": {
   "display_name": "Python 3",
   "language": "python",
   "name": "python3"
  },
  "language_info": {
   "name": "python",
   "version": "3.11.2"
  }
 },
 "nbformat": 4,
 "nbformat_minor": 2
}
