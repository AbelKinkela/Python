{
 "cells": [
  {
   "cell_type": "markdown",
   "metadata": {},
   "source": [
    "# My Notebook"
   ]
  },
  {
   "cell_type": "markdown",
   "metadata": {},
   "source": [
    "#### Topic 1 - Datatypes\n",
    "1. Variables\n",
    "2. DataTypes\n",
    "    - Numeric\n",
    "    - Sequence\n",
    "    - Set\n",
    "    - Dictionary\n",
    "3. Literals\n",
    "4. Conversions"
   ]
  },
  {
   "cell_type": "markdown",
   "metadata": {},
   "source": [
    "### 1. Variables\n",
    "A program contains: Data and Instructions\n",
    "The variables are references to the data. So we can reference data based on the variable names. In python declaration and initialization/assignment is done at once. Declaration only is not possible.\n",
    "Examples:\n",
    "- name = \"Abel\" //possible\n",
    "- age = 15 //possible\n",
    "- nationality // no initialization, not possible.\n",
    "\n",
    "Declaration and initialization of multiple variables is possible\n",
    "\n",
    "**Examples:**\n",
    "\n",
    "- a,b,c = 4,2,10 //possible.\n",
    "\n",
    "**In summary:**\n",
    "- Variables are the names given to data, variables can hold data, variables are references to the data.\n",
    "- Python is dynamically typed language:\n",
    "    - Variables are declared and initialized, declaring only is not allowed.\n",
    "    - There is no need to specify the datatype, python can infere the type based on the value you give to the variable. And this can change throughout the program. \n",
    "- Every in python is object. **RUN help() on variable to see all applicable methods** \n",
    "- Variables can hold single values or multiple values like lists\n",
    "- Variable names should be representative of the data they are referencing. Ex: price, age, customer_name\n",
    "- Python variables names:\n",
    "    - can contain alpha-numeric characters, \n",
    "    - can not cointain special characters except underscore, \n",
    "    - can not start with a number, \n",
    "    - can not be keywords/reserved words, \n",
    "    - they are case sensitive\n",
    "\n"
   ]
  },
  {
   "cell_type": "markdown",
   "metadata": {},
   "source": [
    "### 2. DataTypes\n",
    "- Numeric:\n",
    "    - int: numerical values, positive or negative, with no decimal point and can be of any size. In other languages like java an int represents 4 bytes. Python integer can be represented in binary, octal, hexadecimal number systems ex: a = 12 can be writen as a = 0b1100, a = 0o14, a = 0xC in binary, octal and hexadecimal respectively\n",
    "    - float: numerical values with a decipal point. we can write them in scientific notation. ex: 12.59 => 1259e-2,\n",
    "    - bool: logical values, True and False.\n",
    "    - complex: contain a real part and logical part. ex: x = 2 + 3j. 2 is the real part and 3j is the imaginary part. j is = the square root of -1\n",
    "\n",
    "Python numbers can be writen with underscore for readability purpose. Ex: x = 12000000 can be write as x = 12_000_000 and still works the same way\n",
    "\n",
    "- Sequence:\n",
    "    - list\n",
    "    - tuple\n",
    "    - string\n",
    "    - bytes\n",
    "    - bytearray\n",
    "- Set:\n",
    "    - set\n",
    "    - frozenset\n",
    "- Dictionary\n",
    "    - dict"
   ]
  },
  {
   "cell_type": "code",
   "execution_count": 37,
   "metadata": {},
   "outputs": [
    {
     "name": "stdout",
     "output_type": "stream",
     "text": [
      "918203 <class 'int'>\n"
     ]
    }
   ],
   "source": [
    "x = \"John\"\n",
    "x_b = int(x, 36)\n",
    "print(x_b, type(x_b))"
   ]
  },
  {
   "cell_type": "code",
   "execution_count": null,
   "metadata": {},
   "outputs": [],
   "source": []
  }
 ],
 "metadata": {
  "kernelspec": {
   "display_name": "Python 3",
   "language": "python",
   "name": "python3"
  },
  "language_info": {
   "codemirror_mode": {
    "name": "ipython",
    "version": 3
   },
   "file_extension": ".py",
   "mimetype": "text/x-python",
   "name": "python",
   "nbconvert_exporter": "python",
   "pygments_lexer": "ipython3",
   "version": "3.11.2"
  }
 },
 "nbformat": 4,
 "nbformat_minor": 2
}
